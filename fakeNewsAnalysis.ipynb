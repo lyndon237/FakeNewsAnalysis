{
 "cells": [
  {
   "cell_type": "code",
   "execution_count": 3,
   "metadata": {},
   "outputs": [],
   "source": [
    "import pandas as pd\n",
    "import nltk\n",
    "\n",
    "data_1 = pd.read_csv('C://Users//Lyndon Quadros//Documents//ML Studies//Fake News Analysis//fake-news//fake.csv')"
   ]
  },
  {
   "cell_type": "code",
   "execution_count": 4,
   "metadata": {},
   "outputs": [
    {
     "data": {
      "text/plain": [
       "uuid                     0\n",
       "ord_in_thread            0\n",
       "author                2424\n",
       "published                0\n",
       "title                  680\n",
       "text                    46\n",
       "language                 0\n",
       "crawled                  0\n",
       "site_url                 0\n",
       "country                176\n",
       "domain_rank           4223\n",
       "thread_title            12\n",
       "spam_score               0\n",
       "main_img_url          3643\n",
       "replies_count            0\n",
       "participants_count       0\n",
       "likes                    0\n",
       "comments                 0\n",
       "shares                   0\n",
       "type                     0\n",
       "dtype: int64"
      ]
     },
     "execution_count": 4,
     "metadata": {},
     "output_type": "execute_result"
    }
   ],
   "source": [
    "data_1.isnull().sum()"
   ]
  },
  {
   "cell_type": "markdown",
   "metadata": {},
   "source": [
    "Some observations based on the above output:\n",
    "\n",
    "1. The author column has many NULL values and if you look at the values in the csv, a lot of them have non-sensical names like 1947, # 1 NWO Hatr etc. Although it does feel like authors would be important to the type of news being published, I think that unfortunately, we cannot use the author data in this file because it doesn't seem to have any sensible data. So I will be dropping that column from the data frame.\n",
    "\n",
    "2. The title column has 680 Nulls. There are 2 ways that I can think about how we can impute these missing values. One way is to just replace the blank values with 'untitled' and another way would be to get a gist of the text and 'create' a title. But that would need a whole other layer. So for now, I will just impute the values with 'Untitled'.\n",
    "\n",
    "3. The text column only has 46 missing values. But if you filter the text in the csv, then you get 200+ missing values. There's something wrong with the way the csv is formatted. If you look at rows 581, 582 etc. you'll see that the values under the 'uuid', 'author', 'ord_in_thread' columns are unintuitive. So it looks like we might have to delete these. And the best way to do this would be to delete rows that do not have a numerical value in 'ord_in_thread'.\n",
    "\n",
    "4. For the missing values for country, we can just impute with 'nocountry'\n",
    "\n",
    "5. For the Domain Rank, we could just add either '0' or the median value. I don't think it will matter since the dataset info on kaggle just says 'data from webhoseapi.io'.\n",
    "\n",
    "6. The missing Thread titles can be imputed with 'untitled' and the missing Image URLs can be imputed with 'nourl'"
   ]
  },
  {
   "cell_type": "code",
   "execution_count": 5,
   "metadata": {},
   "outputs": [],
   "source": [
    "#Copying data_1 a new data frame data_2 and dropping the author column\n",
    "data_2 = data_1.drop(columns = ['author'])"
   ]
  },
  {
   "cell_type": "code",
   "execution_count": 8,
   "metadata": {},
   "outputs": [],
   "source": [
    "#Replacing missing titles with 'Untitled'\n",
    "data_2.iloc[:,3].fillna('Untitled', inplace = True)"
   ]
  },
  {
   "cell_type": "code",
   "execution_count": null,
   "metadata": {},
   "outputs": [],
   "source": [
    "#Finding out how many rows have non-numerical values in the ord_in_thread\n",
    "import numpy as np\n",
    "data_2.iloc[:,1].apply(lambda x: int(9999) if ~np.isreal(x) else x)"
   ]
  },
  {
   "cell_type": "code",
   "execution_count": 18,
   "metadata": {},
   "outputs": [
    {
     "data": {
      "text/html": [
       "<div>\n",
       "<style scoped>\n",
       "    .dataframe tbody tr th:only-of-type {\n",
       "        vertical-align: middle;\n",
       "    }\n",
       "\n",
       "    .dataframe tbody tr th {\n",
       "        vertical-align: top;\n",
       "    }\n",
       "\n",
       "    .dataframe thead th {\n",
       "        text-align: right;\n",
       "    }\n",
       "</style>\n",
       "<table border=\"1\" class=\"dataframe\">\n",
       "  <thead>\n",
       "    <tr style=\"text-align: right;\">\n",
       "      <th></th>\n",
       "      <th>uuid</th>\n",
       "      <th>ord_in_thread</th>\n",
       "      <th>published</th>\n",
       "      <th>title</th>\n",
       "      <th>text</th>\n",
       "      <th>language</th>\n",
       "      <th>crawled</th>\n",
       "      <th>site_url</th>\n",
       "      <th>country</th>\n",
       "      <th>domain_rank</th>\n",
       "      <th>thread_title</th>\n",
       "      <th>spam_score</th>\n",
       "      <th>main_img_url</th>\n",
       "      <th>replies_count</th>\n",
       "      <th>participants_count</th>\n",
       "      <th>likes</th>\n",
       "      <th>comments</th>\n",
       "      <th>shares</th>\n",
       "      <th>type</th>\n",
       "    </tr>\n",
       "  </thead>\n",
       "  <tbody>\n",
       "  </tbody>\n",
       "</table>\n",
       "</div>"
      ],
      "text/plain": [
       "Empty DataFrame\n",
       "Columns: [uuid, ord_in_thread, published, title, text, language, crawled, site_url, country, domain_rank, thread_title, spam_score, main_img_url, replies_count, participants_count, likes, comments, shares, type]\n",
       "Index: []"
      ]
     },
     "execution_count": 18,
     "metadata": {},
     "output_type": "execute_result"
    }
   ],
   "source": [
    "data_2.loc[data_2['ord_in_thread'] == '9999']"
   ]
  },
  {
   "cell_type": "markdown",
   "metadata": {},
   "source": [
    "Looks like it has no non-numerical values in the ord_in_thread column. "
   ]
  },
  {
   "cell_type": "code",
   "execution_count": null,
   "metadata": {},
   "outputs": [],
   "source": [
    "#Replacing missing text with 'notext'\n",
    "data_2.iloc[:,4].fillna('notext', inplace = True)\n",
    "\n",
    "#Replacing missing country with nocountry\n",
    "data_2.iloc[:,8].fillna('nocountry', inplace = True)\n",
    "\n",
    "#Replacing missing domain_rank with the median domain rank\n",
    "data_2.iloc[:,9].fillna(data_2.iloc[:,9].median(), inplace = True)\n",
    "\n",
    "#Replacing missing thread_titles with 'nothreadtitle'\n",
    "data_2.iloc[:,10].fillna('nothreadtitle', inplace = True)\n",
    "\n",
    "#Replacing missing main image url with 'noimageurl'\n",
    "data_2.iloc[:,12].fillna('noimageurl', inplace = True)\n"
   ]
  },
  {
   "cell_type": "code",
   "execution_count": 21,
   "metadata": {},
   "outputs": [],
   "source": [
    "data_2.iloc[:,10].fillna('nothreadtitle', inplace = True)\n"
   ]
  },
  {
   "cell_type": "code",
   "execution_count": 22,
   "metadata": {},
   "outputs": [
    {
     "data": {
      "text/plain": [
       "uuid                  0\n",
       "ord_in_thread         0\n",
       "published             0\n",
       "title                 0\n",
       "text                  0\n",
       "language              0\n",
       "crawled               0\n",
       "site_url              0\n",
       "country               0\n",
       "domain_rank           0\n",
       "thread_title          0\n",
       "spam_score            0\n",
       "main_img_url          0\n",
       "replies_count         0\n",
       "participants_count    0\n",
       "likes                 0\n",
       "comments              0\n",
       "shares                0\n",
       "type                  0\n",
       "dtype: int64"
      ]
     },
     "execution_count": 22,
     "metadata": {},
     "output_type": "execute_result"
    }
   ],
   "source": [
    "data_2.isnull().sum()"
   ]
  },
  {
   "cell_type": "markdown",
   "metadata": {},
   "source": [
    "So there are no nulls and we have dropped the author column so far"
   ]
  }
 ],
 "metadata": {
  "kernelspec": {
   "display_name": "Python 3",
   "language": "python",
   "name": "python3"
  },
  "language_info": {
   "codemirror_mode": {
    "name": "ipython",
    "version": 3
   },
   "file_extension": ".py",
   "mimetype": "text/x-python",
   "name": "python",
   "nbconvert_exporter": "python",
   "pygments_lexer": "ipython3",
   "version": "3.7.3"
  }
 },
 "nbformat": 4,
 "nbformat_minor": 2
}
